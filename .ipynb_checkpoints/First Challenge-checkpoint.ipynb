{
 "cells": [
  {
   "cell_type": "markdown",
   "id": "4a8baaa9",
   "metadata": {},
   "source": [
    "# First Challenge ETL"
   ]
  },
  {
   "cell_type": "markdown",
   "id": "d730b24b",
   "metadata": {},
   "source": [
    "The Challenge: Collect the data from https://reqres.in/api/products and from the key \"data\" save in a MySQL table (id,name,year and color)"
   ]
  },
  {
   "cell_type": "markdown",
   "id": "638fb3ef",
   "metadata": {},
   "source": [
    "#### Import Libraries"
   ]
  },
  {
   "cell_type": "code",
   "execution_count": 19,
   "id": "2a2bcc89",
   "metadata": {},
   "outputs": [],
   "source": [
    "import pandas as pd\n",
    "import mysql.connector as mysql\n",
    "import requests\n",
    "from requests.exceptions import HTTPError"
   ]
  },
  {
   "cell_type": "markdown",
   "id": "a7f89269",
   "metadata": {},
   "source": [
    "#### Request the JSON"
   ]
  },
  {
   "cell_type": "code",
   "execution_count": 20,
   "id": "40e129a1",
   "metadata": {},
   "outputs": [
    {
     "name": "stdout",
     "output_type": "stream",
     "text": [
      "Entire JSON response:\n",
      " {'page': 1, 'per_page': 6, 'total': 12, 'total_pages': 2, 'data': [{'id': 1, 'name': 'cerulean', 'year': 2000, 'color': '#98B2D1', 'pantone_value': '15-4020'}, {'id': 2, 'name': 'fuchsia rose', 'year': 2001, 'color': '#C74375', 'pantone_value': '17-2031'}, {'id': 3, 'name': 'true red', 'year': 2002, 'color': '#BF1932', 'pantone_value': '19-1664'}, {'id': 4, 'name': 'aqua sky', 'year': 2003, 'color': '#7BC4C4', 'pantone_value': '14-4811'}, {'id': 5, 'name': 'tigerlily', 'year': 2004, 'color': '#E2583E', 'pantone_value': '17-1456'}, {'id': 6, 'name': 'blue turquoise', 'year': 2005, 'color': '#53B0AE', 'pantone_value': '15-5217'}], 'support': {'url': 'https://reqres.in/#support-heading', 'text': 'To keep ReqRes free, contributions towards server costs are appreciated!'}}\n"
     ]
    }
   ],
   "source": [
    "try:\n",
    "    response = requests.get('https://reqres.in/api/products')\n",
    "    response.raise_for_status()\n",
    "    #access JSON content\n",
    "    jsonResponse = response.json()\n",
    "    print(f'Entire JSON response:\\n {jsonResponse}')\n",
    "    \n",
    "except HTTPError as http_err:\n",
    "    print(f'HTTP error occored: {http_err}')\n",
    "except Exception as err:\n",
    "    print(f'Other error occured: {err}')"
   ]
  },
  {
   "cell_type": "markdown",
   "id": "4a81191a",
   "metadata": {},
   "source": [
    "To help with visualization let's do key-value print."
   ]
  },
  {
   "cell_type": "code",
   "execution_count": 21,
   "id": "b6440d10",
   "metadata": {},
   "outputs": [
    {
     "data": {
      "text/plain": [
       "[{'id': 1,\n",
       "  'name': 'cerulean',\n",
       "  'year': 2000,\n",
       "  'color': '#98B2D1',\n",
       "  'pantone_value': '15-4020'},\n",
       " {'id': 2,\n",
       "  'name': 'fuchsia rose',\n",
       "  'year': 2001,\n",
       "  'color': '#C74375',\n",
       "  'pantone_value': '17-2031'},\n",
       " {'id': 3,\n",
       "  'name': 'true red',\n",
       "  'year': 2002,\n",
       "  'color': '#BF1932',\n",
       "  'pantone_value': '19-1664'},\n",
       " {'id': 4,\n",
       "  'name': 'aqua sky',\n",
       "  'year': 2003,\n",
       "  'color': '#7BC4C4',\n",
       "  'pantone_value': '14-4811'},\n",
       " {'id': 5,\n",
       "  'name': 'tigerlily',\n",
       "  'year': 2004,\n",
       "  'color': '#E2583E',\n",
       "  'pantone_value': '17-1456'},\n",
       " {'id': 6,\n",
       "  'name': 'blue turquoise',\n",
       "  'year': 2005,\n",
       "  'color': '#53B0AE',\n",
       "  'pantone_value': '15-5217'}]"
      ]
     },
     "execution_count": 21,
     "metadata": {},
     "output_type": "execute_result"
    }
   ],
   "source": [
    "data = jsonResponse['data']\n",
    "data"
   ]
  },
  {
   "cell_type": "code",
   "execution_count": 28,
   "id": "57c10979",
   "metadata": {},
   "outputs": [
    {
     "data": {
      "text/html": [
       "<div>\n",
       "<style scoped>\n",
       "    .dataframe tbody tr th:only-of-type {\n",
       "        vertical-align: middle;\n",
       "    }\n",
       "\n",
       "    .dataframe tbody tr th {\n",
       "        vertical-align: top;\n",
       "    }\n",
       "\n",
       "    .dataframe thead th {\n",
       "        text-align: right;\n",
       "    }\n",
       "</style>\n",
       "<table border=\"1\" class=\"dataframe\">\n",
       "  <thead>\n",
       "    <tr style=\"text-align: right;\">\n",
       "      <th></th>\n",
       "      <th>id</th>\n",
       "      <th>name</th>\n",
       "      <th>year</th>\n",
       "      <th>color</th>\n",
       "      <th>pantone_value</th>\n",
       "    </tr>\n",
       "  </thead>\n",
       "  <tbody>\n",
       "    <tr>\n",
       "      <th>0</th>\n",
       "      <td>1</td>\n",
       "      <td>cerulean</td>\n",
       "      <td>2000</td>\n",
       "      <td>#98B2D1</td>\n",
       "      <td>15-4020</td>\n",
       "    </tr>\n",
       "    <tr>\n",
       "      <th>1</th>\n",
       "      <td>2</td>\n",
       "      <td>fuchsia rose</td>\n",
       "      <td>2001</td>\n",
       "      <td>#C74375</td>\n",
       "      <td>17-2031</td>\n",
       "    </tr>\n",
       "    <tr>\n",
       "      <th>2</th>\n",
       "      <td>3</td>\n",
       "      <td>true red</td>\n",
       "      <td>2002</td>\n",
       "      <td>#BF1932</td>\n",
       "      <td>19-1664</td>\n",
       "    </tr>\n",
       "    <tr>\n",
       "      <th>3</th>\n",
       "      <td>4</td>\n",
       "      <td>aqua sky</td>\n",
       "      <td>2003</td>\n",
       "      <td>#7BC4C4</td>\n",
       "      <td>14-4811</td>\n",
       "    </tr>\n",
       "    <tr>\n",
       "      <th>4</th>\n",
       "      <td>5</td>\n",
       "      <td>tigerlily</td>\n",
       "      <td>2004</td>\n",
       "      <td>#E2583E</td>\n",
       "      <td>17-1456</td>\n",
       "    </tr>\n",
       "    <tr>\n",
       "      <th>5</th>\n",
       "      <td>6</td>\n",
       "      <td>blue turquoise</td>\n",
       "      <td>2005</td>\n",
       "      <td>#53B0AE</td>\n",
       "      <td>15-5217</td>\n",
       "    </tr>\n",
       "  </tbody>\n",
       "</table>\n",
       "</div>"
      ],
      "text/plain": [
       "   id            name  year    color pantone_value\n",
       "0   1        cerulean  2000  #98B2D1       15-4020\n",
       "1   2    fuchsia rose  2001  #C74375       17-2031\n",
       "2   3        true red  2002  #BF1932       19-1664\n",
       "3   4        aqua sky  2003  #7BC4C4       14-4811\n",
       "4   5       tigerlily  2004  #E2583E       17-1456\n",
       "5   6  blue turquoise  2005  #53B0AE       15-5217"
      ]
     },
     "execution_count": 28,
     "metadata": {},
     "output_type": "execute_result"
    }
   ],
   "source": [
    "df = pd.DataFrame.from_dict(data)\n",
    "df"
   ]
  },
  {
   "cell_type": "code",
   "execution_count": 24,
   "id": "91c7fdd8",
   "metadata": {},
   "outputs": [
    {
     "ename": "AttributeError",
     "evalue": "'list' object has no attribute 'info'",
     "output_type": "error",
     "traceback": [
      "\u001b[1;31m---------------------------------------------------------------------------\u001b[0m",
      "\u001b[1;31mAttributeError\u001b[0m                            Traceback (most recent call last)",
      "\u001b[1;32m~\\AppData\\Local\\Temp/ipykernel_25280/169168403.py\u001b[0m in \u001b[0;36m<module>\u001b[1;34m\u001b[0m\n\u001b[1;32m----> 1\u001b[1;33m \u001b[0mdata\u001b[0m\u001b[1;33m.\u001b[0m\u001b[0minfo\u001b[0m\u001b[1;33m(\u001b[0m\u001b[1;33m)\u001b[0m\u001b[1;33m\u001b[0m\u001b[1;33m\u001b[0m\u001b[0m\n\u001b[0m",
      "\u001b[1;31mAttributeError\u001b[0m: 'list' object has no attribute 'info'"
     ]
    }
   ],
   "source": []
  },
  {
   "cell_type": "code",
   "execution_count": null,
   "id": "d5859f13",
   "metadata": {},
   "outputs": [],
   "source": []
  }
 ],
 "metadata": {
  "kernelspec": {
   "display_name": "Python 3 (ipykernel)",
   "language": "python",
   "name": "python3"
  },
  "language_info": {
   "codemirror_mode": {
    "name": "ipython",
    "version": 3
   },
   "file_extension": ".py",
   "mimetype": "text/x-python",
   "name": "python",
   "nbconvert_exporter": "python",
   "pygments_lexer": "ipython3",
   "version": "3.9.7"
  }
 },
 "nbformat": 4,
 "nbformat_minor": 5
}
