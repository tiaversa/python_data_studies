{
 "cells": [
  {
   "cell_type": "markdown",
   "id": "641cda12",
   "metadata": {},
   "source": [
    "# Getting Started with MySQL in Python"
   ]
  },
  {
   "cell_type": "markdown",
   "id": "1d8725ad",
   "metadata": {},
   "source": [
    "Project based on the article by Hafeezul Shaik (https://www.datacamp.com/community/tutorials/mysql-python).\n",
    "\n",
    "Set up for teach us to create databases, and create tables, along with much more."
   ]
  },
  {
   "cell_type": "markdown",
   "id": "453e3050",
   "metadata": {},
   "source": [
    "## Connecting to the database"
   ]
  },
  {
   "cell_type": "markdown",
   "id": "8be3305a",
   "metadata": {},
   "source": [
    "I had the same problem and passing auth_plugin='mysql_native_password' did not work, because I accidentally installed mysql-connector instead of mysql-connector-python (via pip3)."
   ]
  },
  {
   "cell_type": "code",
   "execution_count": 2,
   "id": "1c5f5fe2",
   "metadata": {},
   "outputs": [
    {
     "name": "stdout",
     "output_type": "stream",
     "text": [
      "<mysql.connector.connection_cext.CMySQLConnection object at 0x00000153B831F790>\n"
     ]
    }
   ],
   "source": [
    "import mysql.connector as mysql\n",
    "\n",
    "#connecting to the database, takes 3 requirements\n",
    "db = mysql.connect(\n",
    "    host='127.0.0.1',\n",
    "    user='root',\n",
    "    password='*Saltlake5'\n",
    ")\n",
    "print(db)"
   ]
  },
  {
   "cell_type": "markdown",
   "id": "ad3fc51d",
   "metadata": {},
   "source": [
    "## Creating Databases\n",
    "To create a database in MySQL, we use CREATE DATABASE database_name statement."
   ]
  },
  {
   "cell_type": "code",
   "execution_count": 6,
   "id": "21863421",
   "metadata": {},
   "outputs": [
    {
     "ename": "DatabaseError",
     "evalue": "1007 (HY000): Can't create database 'datacamp'; database exists",
     "output_type": "error",
     "traceback": [
      "\u001b[1;31m---------------------------------------------------------------------------\u001b[0m",
      "\u001b[1;31mMySQLInterfaceError\u001b[0m                       Traceback (most recent call last)",
      "\u001b[1;32m~\\OneDrive\\Desktop\\programing\\python\\env\\lib\\site-packages\\mysql\\connector\\connection_cext.py\u001b[0m in \u001b[0;36mcmd_query\u001b[1;34m(self, query, raw, buffered, raw_as_string)\u001b[0m\n\u001b[0;32m    515\u001b[0m                 \u001b[0mquery\u001b[0m \u001b[1;33m=\u001b[0m \u001b[0mquery\u001b[0m\u001b[1;33m.\u001b[0m\u001b[0mencode\u001b[0m\u001b[1;33m(\u001b[0m\u001b[1;34m'utf-8'\u001b[0m\u001b[1;33m)\u001b[0m\u001b[1;33m\u001b[0m\u001b[1;33m\u001b[0m\u001b[0m\n\u001b[1;32m--> 516\u001b[1;33m             self._cmysql.query(query,\n\u001b[0m\u001b[0;32m    517\u001b[0m                                \u001b[0mraw\u001b[0m\u001b[1;33m=\u001b[0m\u001b[0mraw\u001b[0m\u001b[1;33m,\u001b[0m \u001b[0mbuffered\u001b[0m\u001b[1;33m=\u001b[0m\u001b[0mbuffered\u001b[0m\u001b[1;33m,\u001b[0m\u001b[1;33m\u001b[0m\u001b[1;33m\u001b[0m\u001b[0m\n",
      "\u001b[1;31mMySQLInterfaceError\u001b[0m: Can't create database 'datacamp'; database exists",
      "\nDuring handling of the above exception, another exception occurred:\n",
      "\u001b[1;31mDatabaseError\u001b[0m                             Traceback (most recent call last)",
      "\u001b[1;32m~\\AppData\\Local\\Temp/ipykernel_16704/4001818102.py\u001b[0m in \u001b[0;36m<module>\u001b[1;34m\u001b[0m\n\u001b[0;32m      5\u001b[0m \u001b[1;31m## 'execute()' method is used to compile a 'SQL' statement\u001b[0m\u001b[1;33m\u001b[0m\u001b[1;33m\u001b[0m\u001b[0m\n\u001b[0;32m      6\u001b[0m \u001b[1;31m## below statement is used to create tha 'datacamp' database\u001b[0m\u001b[1;33m\u001b[0m\u001b[1;33m\u001b[0m\u001b[0m\n\u001b[1;32m----> 7\u001b[1;33m \u001b[0mcursor\u001b[0m\u001b[1;33m.\u001b[0m\u001b[0mexecute\u001b[0m\u001b[1;33m(\u001b[0m\u001b[1;34m\"CREATE DATABASE datacamp\"\u001b[0m\u001b[1;33m)\u001b[0m\u001b[1;33m\u001b[0m\u001b[1;33m\u001b[0m\u001b[0m\n\u001b[0m",
      "\u001b[1;32m~\\OneDrive\\Desktop\\programing\\python\\env\\lib\\site-packages\\mysql\\connector\\cursor_cext.py\u001b[0m in \u001b[0;36mexecute\u001b[1;34m(self, operation, params, multi)\u001b[0m\n\u001b[0;32m    267\u001b[0m \u001b[1;33m\u001b[0m\u001b[0m\n\u001b[0;32m    268\u001b[0m         \u001b[1;32mtry\u001b[0m\u001b[1;33m:\u001b[0m\u001b[1;33m\u001b[0m\u001b[1;33m\u001b[0m\u001b[0m\n\u001b[1;32m--> 269\u001b[1;33m             result = self._cnx.cmd_query(stmt, raw=self._raw,\n\u001b[0m\u001b[0;32m    270\u001b[0m                                          \u001b[0mbuffered\u001b[0m\u001b[1;33m=\u001b[0m\u001b[0mself\u001b[0m\u001b[1;33m.\u001b[0m\u001b[0m_buffered\u001b[0m\u001b[1;33m,\u001b[0m\u001b[1;33m\u001b[0m\u001b[1;33m\u001b[0m\u001b[0m\n\u001b[0;32m    271\u001b[0m                                          raw_as_string=self._raw_as_string)\n",
      "\u001b[1;32m~\\OneDrive\\Desktop\\programing\\python\\env\\lib\\site-packages\\mysql\\connector\\connection_cext.py\u001b[0m in \u001b[0;36mcmd_query\u001b[1;34m(self, query, raw, buffered, raw_as_string)\u001b[0m\n\u001b[0;32m    519\u001b[0m                                query_attrs=self._query_attrs)\n\u001b[0;32m    520\u001b[0m         \u001b[1;32mexcept\u001b[0m \u001b[0mMySQLInterfaceError\u001b[0m \u001b[1;32mas\u001b[0m \u001b[0mexc\u001b[0m\u001b[1;33m:\u001b[0m\u001b[1;33m\u001b[0m\u001b[1;33m\u001b[0m\u001b[0m\n\u001b[1;32m--> 521\u001b[1;33m             raise errors.get_mysql_exception(exc.errno, msg=exc.msg,\n\u001b[0m\u001b[0;32m    522\u001b[0m                                              sqlstate=exc.sqlstate)\n\u001b[0;32m    523\u001b[0m         \u001b[1;32mexcept\u001b[0m \u001b[0mAttributeError\u001b[0m\u001b[1;33m:\u001b[0m\u001b[1;33m\u001b[0m\u001b[1;33m\u001b[0m\u001b[0m\n",
      "\u001b[1;31mDatabaseError\u001b[0m: 1007 (HY000): Can't create database 'datacamp'; database exists"
     ]
    }
   ],
   "source": [
    "## creating an instance of 'cursor' class which is used to execute the 'SQL' statements in 'Python'\n",
    "cursor = db.cursor()\n",
    "\n",
    "## creating a databse called 'datacamp'\n",
    "## 'execute()' method is used to compile a 'SQL' statement\n",
    "## below statement is used to create tha 'datacamp' database\n",
    "cursor.execute(\"CREATE DATABASE datacamp\")"
   ]
  },
  {
   "cell_type": "markdown",
   "id": "30b75c56",
   "metadata": {},
   "source": [
    "## Showing the databases available"
   ]
  },
  {
   "cell_type": "markdown",
   "id": "fd46dd63",
   "metadata": {},
   "source": [
    "If the database already exists you will get an error. Make sure that the database does not exist.\n",
    "\n",
    "See all the databases present in MySQL using the following code.\n",
    "\n",
    "To see all the databases we use SHOW DATABASES statement."
   ]
  },
  {
   "cell_type": "code",
   "execution_count": 9,
   "id": "4f299b18",
   "metadata": {
    "scrolled": true
   },
   "outputs": [
    {
     "name": "stdout",
     "output_type": "stream",
     "text": [
      "[('call_center',), ('datacamp',), ('grading_system',), ('information_schema',), ('mysql',), ('natural_gas',), ('performance_schema',), ('record_store',), ('school_record',), ('sys',), ('titanic',), ('vote',)]\n",
      "('call_center',)\n",
      "('datacamp',)\n",
      "('grading_system',)\n",
      "('information_schema',)\n",
      "('mysql',)\n",
      "('natural_gas',)\n",
      "('performance_schema',)\n",
      "('record_store',)\n",
      "('school_record',)\n",
      "('sys',)\n",
      "('titanic',)\n",
      "('vote',)\n"
     ]
    }
   ],
   "source": [
    "db = mysql.connect(\n",
    "    host = \"localhost\",\n",
    "    user = \"root\",\n",
    "    passwd = \"*Saltlake5\"\n",
    ")\n",
    "\n",
    "cursor = db.cursor()\n",
    "\n",
    "## executing the statement using 'execute()' method\n",
    "cursor.execute(\"SHOW DATABASES\")\n",
    "\n",
    "## 'fetchall()' method fetches all the rows from the last executed statement\n",
    "databases = cursor.fetchall() ## it returns a list of all databases present\n",
    "\n",
    "## printing the list of databases\n",
    "print(databases)\n",
    "\n",
    "## showing one by one database\n",
    "for database in databases:\n",
    "    print(database)"
   ]
  },
  {
   "cell_type": "markdown",
   "id": "03bdb228",
   "metadata": {},
   "source": [
    "## Creating Tables"
   ]
  },
  {
   "cell_type": "code",
   "execution_count": 11,
   "id": "fb56055a",
   "metadata": {},
   "outputs": [],
   "source": [
    "#First select database\n",
    "import mysql.connector as mysql\n",
    "\n",
    "#connecting to the database, takes 3 requirements\n",
    "db = mysql.connect(\n",
    "    host='127.0.0.1',\n",
    "    user='root',\n",
    "    password='*Saltlake5',\n",
    "    database = 'datacamp'\n",
    ")\n",
    "#create instance\n",
    "cursor = db.cursor()\n",
    "\n",
    "#creating a table called 'users' in the datacamp database\n",
    "cursor.execute('CREATE TABLE users (name VARCHAR(255), user_name VARCHAR(255))')"
   ]
  },
  {
   "cell_type": "markdown",
   "id": "6eaab913",
   "metadata": {},
   "source": [
    "#### Showing all the tables in a database"
   ]
  },
  {
   "cell_type": "code",
   "execution_count": 13,
   "id": "9ad0bfe5",
   "metadata": {},
   "outputs": [
    {
     "name": "stdout",
     "output_type": "stream",
     "text": [
      "('users',)\n"
     ]
    }
   ],
   "source": [
    "## getting all the tables which are present in 'datacamp' database\n",
    "cursor.execute(\"SHOW TABLES\")\n",
    "\n",
    "tables = cursor.fetchall() ## it returns list of tables present in the database\n",
    "\n",
    "## showing all the tables one by one\n",
    "for table in tables:\n",
    "    print(table)"
   ]
  },
  {
   "cell_type": "markdown",
   "id": "090d85b9",
   "metadata": {},
   "source": [
    "## Primary Key"
   ]
  },
  {
   "cell_type": "markdown",
   "id": "81b51f87",
   "metadata": {},
   "source": [
    "Primary Key:- It is a unique value in the table. It helps to find each row uniquely in the table.\n",
    "To create a Primary Key, we use the PRIMARY KEY statement while creating the table.\n",
    "The statement INT AUTO_INCREMENT PRIMARY KEY is used to identify each row uniquely with a number starting from 1."
   ]
  },
  {
   "cell_type": "code",
   "execution_count": 27,
   "id": "dcdc368b",
   "metadata": {},
   "outputs": [],
   "source": [
    "import mysql.connector as mysql\n",
    "\n",
    "db = mysql.connect(\n",
    "    host = 'localhost',\n",
    "    user = 'root',\n",
    "    passwd = '*Saltlake5',\n",
    "    database = 'datacamp'\n",
    ")\n",
    "\n",
    "cursor = db.cursor()\n",
    "\n",
    "#First we need to drop the table to be able to add the primary key\n",
    "cursor.execute('DROP TABLE users')\n",
    "\n",
    "#Creating the 'users' table again with the 'PRIMARY KEY'\n",
    "cursor.execute('CREATE TABLE users(id INT(11) NOT NULL AUTO_INCREMENT PRIMARY KEY,name VARCHAR(255),user_name VARCHAR(255))')\n",
    "#you gotta pass each of the fields configuration"
   ]
  },
  {
   "cell_type": "markdown",
   "id": "566101c1",
   "metadata": {},
   "source": [
    "#### To see the table created"
   ]
  },
  {
   "cell_type": "code",
   "execution_count": 28,
   "id": "32542ab5",
   "metadata": {},
   "outputs": [
    {
     "name": "stdout",
     "output_type": "stream",
     "text": [
      "[('id', b'int', 'NO', 'PRI', None, 'auto_increment'), ('name', b'varchar(255)', 'YES', '', None, ''), ('user_name', b'varchar(255)', 'YES', '', None, '')]\n"
     ]
    }
   ],
   "source": [
    "#Desc 'table_name' is used to get all collumns information\n",
    "cursor.execute('DESC users')\n",
    "\n",
    "#print all the columns as 'tuples' in a list\n",
    "print(cursor.fetchall())"
   ]
  },
  {
   "cell_type": "markdown",
   "id": "9bb30823",
   "metadata": {},
   "source": [
    "## Alter Table by Dopping Fields"
   ]
  },
  {
   "cell_type": "code",
   "execution_count": 29,
   "id": "632be769",
   "metadata": {},
   "outputs": [
    {
     "name": "stdout",
     "output_type": "stream",
     "text": [
      "[('name', b'varchar(255)', 'YES', '', None, ''), ('user_name', b'varchar(255)', 'YES', '', None, '')]\n"
     ]
    }
   ],
   "source": [
    "#drop field \n",
    "cursor.execute('ALTER TABLE users DROP id')\n",
    "\n",
    "#print table info\n",
    "cursor.execute('DESC users')\n",
    "\n",
    "print(cursor.fetchall())"
   ]
  },
  {
   "cell_type": "markdown",
   "id": "965c5ed6",
   "metadata": {},
   "source": [
    "## Adding a Field to a Table"
   ]
  },
  {
   "cell_type": "code",
   "execution_count": 30,
   "id": "0b96b549",
   "metadata": {},
   "outputs": [
    {
     "name": "stdout",
     "output_type": "stream",
     "text": [
      "[('id', b'int', 'NO', 'PRI', None, 'auto_increment'), ('name', b'varchar(255)', 'YES', '', None, ''), ('user_name', b'varchar(255)', 'YES', '', None, '')]\n"
     ]
    }
   ],
   "source": [
    "#adding field, description and position\n",
    "cursor.execute('ALTER TABLE users ADD COLUMN id INT(11) NOT NULL AUTO_INCREMENT PRIMARY KEY FIRST')\n",
    "\n",
    "#print table info\n",
    "cursor.execute('DESC users')\n",
    "\n",
    "print(cursor.fetchall())"
   ]
  },
  {
   "cell_type": "markdown",
   "id": "23a1beb0",
   "metadata": {},
   "source": [
    "## Inserting a Simgle Row"
   ]
  },
  {
   "cell_type": "code",
   "execution_count": 31,
   "id": "e0313a91",
   "metadata": {},
   "outputs": [
    {
     "name": "stdout",
     "output_type": "stream",
     "text": [
      "1 record inserted\n"
     ]
    }
   ],
   "source": [
    "# Begin by defining the query\n",
    "query = 'INSERT INTO users (name, user_name) VALUES (%s, %s)'\n",
    "#Storing values in a vaiable\n",
    "values = ('Haffez', 'hafeez')\n",
    "\n",
    "#Executing the query with values\n",
    "cursor.execute(query, values)\n",
    "\n",
    "#for a final output, we have to commit() the changes to the DB\n",
    "db.commit()\n",
    "\n",
    "#print the rows\n",
    "print(cursor.rowcount, 'record inserted')\n"
   ]
  },
  {
   "cell_type": "markdown",
   "id": "6a2c17f2",
   "metadata": {},
   "source": [
    "## Inserting Multiple Rows"
   ]
  },
  {
   "cell_type": "code",
   "execution_count": 34,
   "id": "1f222938",
   "metadata": {},
   "outputs": [
    {
     "name": "stdout",
     "output_type": "stream",
     "text": [
      "4 records inserted\n"
     ]
    }
   ],
   "source": [
    "# Defining the query\n",
    "query = 'INSERT INTO users (name, user_name) VALUES (%s, %s)'\n",
    "#storing values in a list of tuples\n",
    "values =[\n",
    "    ('Peter', 'peter'),\n",
    "    ('Amy', 'amy'),\n",
    "    ('Michael', 'michael'),\n",
    "    ('Hennah', 'hennah')\n",
    "]\n",
    "\n",
    "#Executing the query with values (many)\n",
    "cursor.executemany(query, values)\n",
    "\n",
    "# commit changes to the db\n",
    "db.commit()\n",
    "\n",
    "print(cursor.rowcount, 'records inserted')"
   ]
  },
  {
   "cell_type": "markdown",
   "id": "c811238b",
   "metadata": {},
   "source": [
    "## Select Data"
   ]
  },
  {
   "cell_type": "markdown",
   "id": "0355c348",
   "metadata": {},
   "source": [
    "### Getting all records from table"
   ]
  },
  {
   "cell_type": "code",
   "execution_count": 35,
   "id": "2a5bcceb",
   "metadata": {},
   "outputs": [
    {
     "name": "stdout",
     "output_type": "stream",
     "text": [
      "(1, 'Haffez', 'hafeez')\n",
      "(2, 'Peter', 'peter')\n",
      "(3, 'Amy', 'amy')\n",
      "(4, 'Michael', 'michael')\n",
      "(5, 'Hennah', 'hennah')\n"
     ]
    }
   ],
   "source": [
    "# Defining the query\n",
    "query = 'SELECT * FROM users'\n",
    "#getting records from the table\n",
    "cursor.execute(query)\n",
    "#fetching all records from the 'cursor' object\n",
    "records = cursor.fetchall()\n",
    "\n",
    "#showing the data\n",
    "for record in records:\n",
    "    print(record)"
   ]
  },
  {
   "cell_type": "markdown",
   "id": "dafff064",
   "metadata": {},
   "source": [
    "### Getting Some Columns "
   ]
  },
  {
   "cell_type": "markdown",
   "id": "f8cb60c6",
   "metadata": {},
   "source": [
    "#### Getting only one field (column)"
   ]
  },
  {
   "cell_type": "code",
   "execution_count": 41,
   "id": "800407f3",
   "metadata": {},
   "outputs": [
    {
     "name": "stdout",
     "output_type": "stream",
     "text": [
      "('hafeez',)\n",
      "('peter',)\n",
      "('amy',)\n",
      "('michael',)\n",
      "('hennah',)\n"
     ]
    }
   ],
   "source": [
    "#Defining the query\n",
    "query = 'SELECT user_name FROM users'\n",
    "#Getting 'user_name' colimn from the table\n",
    "cursor.execute(query)\n",
    "#Fetching all usernames from the 'cursor' object\n",
    "usernames = cursor.fetchall()\n",
    "\n",
    "#Showing the data\n",
    "for username in usernames:\n",
    "    print(username)"
   ]
  },
  {
   "cell_type": "markdown",
   "id": "8fd4145f",
   "metadata": {},
   "source": [
    "#### Getting more than one column at a time"
   ]
  },
  {
   "cell_type": "code",
   "execution_count": 43,
   "id": "d628d4cc",
   "metadata": {},
   "outputs": [
    {
     "name": "stdout",
     "output_type": "stream",
     "text": [
      "(1, 'Haffez')\n",
      "(2, 'Peter')\n",
      "(3, 'Amy')\n",
      "(4, 'Michael')\n",
      "(5, 'Hennah')\n"
     ]
    }
   ],
   "source": [
    "#Defining the query\n",
    "query = 'SELECT id, name FROM users'\n",
    "#executing the query\n",
    "cursor.execute(query)\n",
    "#Fetching all records from the 'cursor' object\n",
    "data = cursor.fetchall()\n",
    "\n",
    "#Showing the data\n",
    "for pair in data:\n",
    "    print(pair)"
   ]
  },
  {
   "cell_type": "markdown",
   "id": "c22c4a5b",
   "metadata": {},
   "source": [
    "## WHERE Condition"
   ]
  },
  {
   "cell_type": "code",
   "execution_count": 45,
   "id": "1a05b7b5",
   "metadata": {},
   "outputs": [
    {
     "name": "stdout",
     "output_type": "stream",
     "text": [
      "(5, 'Hennah', 'hennah')\n"
     ]
    }
   ],
   "source": [
    "#Defining the query\n",
    "query = 'SELECT * FROM users WHERE id = 5'\n",
    "#getting recors from the table\n",
    "cursor.execute(query)\n",
    "#Fetching all records from the 'cursor' object\n",
    "data = cursor.fetchall()\n",
    "\n",
    "#Showing the data\n",
    "for pair in data:\n",
    "    print(pair)"
   ]
  },
  {
   "cell_type": "markdown",
   "id": "85c28b22",
   "metadata": {},
   "source": [
    "## Order By Sorting of Results"
   ]
  },
  {
   "cell_type": "markdown",
   "id": "bdb207dd",
   "metadata": {},
   "source": [
    "Use the ORDER BY to sort the result in ascending or descending order. It sorts the result in ascending order by default, to sort the result in descending order use the keyword DESC.\n",
    "SELECT column_names FROM table_name ORDER BY column_name DESC statement will be used to sort the result in descending order by a column."
   ]
  },
  {
   "cell_type": "code",
   "execution_count": 46,
   "id": "fa8d4e53",
   "metadata": {},
   "outputs": [
    {
     "name": "stdout",
     "output_type": "stream",
     "text": [
      "(3, 'Amy', 'amy')\n",
      "(1, 'Haffez', 'hafeez')\n",
      "(5, 'Hennah', 'hennah')\n",
      "(4, 'Michael', 'michael')\n",
      "(2, 'Peter', 'peter')\n"
     ]
    }
   ],
   "source": [
    "# Ordering by Ascending Order\n",
    "#Defining the query\n",
    "query = 'SELECT * FROM users ORDER BY name'\n",
    "#getting recors from the table\n",
    "cursor.execute(query)\n",
    "#Fetching all records from the 'cursor' object\n",
    "data = cursor.fetchall()\n",
    "\n",
    "#Showing the data\n",
    "for pair in data:\n",
    "    print(pair)"
   ]
  },
  {
   "cell_type": "code",
   "execution_count": 48,
   "id": "b61b2290",
   "metadata": {},
   "outputs": [
    {
     "name": "stdout",
     "output_type": "stream",
     "text": [
      "(2, 'Peter', 'peter')\n",
      "(4, 'Michael', 'michael')\n",
      "(5, 'Hennah', 'hennah')\n",
      "(1, 'Haffez', 'hafeez')\n",
      "(3, 'Amy', 'amy')\n"
     ]
    }
   ],
   "source": [
    "# Ordering by Descending Order\n",
    "#Defining the query\n",
    "query = 'SELECT * FROM users ORDER BY name DESC'\n",
    "#getting recors from the table\n",
    "cursor.execute(query)\n",
    "#Fetching all records from the 'cursor' object\n",
    "data = cursor.fetchall()\n",
    "\n",
    "#Showing the data\n",
    "for pair in data:\n",
    "    print(pair)"
   ]
  },
  {
   "cell_type": "markdown",
   "id": "7d1f32c3",
   "metadata": {},
   "source": [
    "## Delete records from table"
   ]
  },
  {
   "cell_type": "markdown",
   "id": "5b63f9e5",
   "metadata": {},
   "source": [
    "DELETE FROM table_name WHERE condition statement is used to delete records. If you don't specify the condition, then all of the records will be deleted."
   ]
  },
  {
   "cell_type": "code",
   "execution_count": 55,
   "id": "b4276060",
   "metadata": {},
   "outputs": [
    {
     "name": "stdout",
     "output_type": "stream",
     "text": [
      "(1, 'Kareem', 'hafeez')\n",
      "(2, 'Peter', 'peter')\n",
      "(3, 'Amy', 'amy')\n",
      "(4, 'Michael', 'michael')\n"
     ]
    }
   ],
   "source": [
    "#Defining the query\n",
    "query = 'DELETE FROM users WHERE id = 5'\n",
    "#getting recors from the table\n",
    "cursor.execute(query)\n",
    "#commiting changes to the Database\n",
    "db.commit()\n",
    "\n",
    "\n",
    "\n",
    "# Checking if it was deleted by querying all the records from the table\n",
    "#Defining the query\n",
    "query = 'SELECT * FROM users'\n",
    "#getting recors from the table\n",
    "cursor.execute(query)\n",
    "#Fetching all records from the 'cursor' object\n",
    "records = cursor.fetchall()\n",
    "\n",
    "#Showing the data\n",
    "for record in records:\n",
    "    print(record)"
   ]
  },
  {
   "cell_type": "markdown",
   "id": "96fcbd47",
   "metadata": {},
   "source": [
    "## UPDATE the data of a record"
   ]
  },
  {
   "cell_type": "code",
   "execution_count": 59,
   "id": "22357f43",
   "metadata": {},
   "outputs": [
    {
     "name": "stdout",
     "output_type": "stream",
     "text": [
      "(1, 'Kareem', 'hafeez')\n",
      "(2, 'Peter', 'peter')\n",
      "(3, 'Amy', 'amy')\n",
      "(4, 'Michael', 'michael')\n"
     ]
    }
   ],
   "source": [
    "#Defining the query\n",
    "query = 'UPDATE users SET name = \"Kareem\" WHERE id = 1'\n",
    "#getting recors from the table\n",
    "cursor.execute(query)\n",
    "#commiting changes to the Database\n",
    "db.commit()\n",
    "\n",
    "\n",
    "\n",
    "# Checking if it was deleted by querying all the records from the table\n",
    "#Defining the query\n",
    "query = 'SELECT * FROM users'\n",
    "#getting recors from the table\n",
    "cursor.execute(query)\n",
    "#Fetching all records from the 'cursor' object\n",
    "records = cursor.fetchall()\n",
    "\n",
    "#Showing the data\n",
    "for record in records:\n",
    "    print(record)"
   ]
  },
  {
   "cell_type": "markdown",
   "id": "4a9b49e3",
   "metadata": {},
   "source": [
    "Learn more about the MySQL at MySQLs' documentation.\n",
    "\n",
    "Learn Python from Pythons' official documentation"
   ]
  },
  {
   "cell_type": "code",
   "execution_count": null,
   "id": "4b866f35",
   "metadata": {},
   "outputs": [],
   "source": []
  }
 ],
 "metadata": {
  "kernelspec": {
   "display_name": "Python 3 (ipykernel)",
   "language": "python",
   "name": "python3"
  },
  "language_info": {
   "codemirror_mode": {
    "name": "ipython",
    "version": 3
   },
   "file_extension": ".py",
   "mimetype": "text/x-python",
   "name": "python",
   "nbconvert_exporter": "python",
   "pygments_lexer": "ipython3",
   "version": "3.9.7"
  }
 },
 "nbformat": 4,
 "nbformat_minor": 5
}
