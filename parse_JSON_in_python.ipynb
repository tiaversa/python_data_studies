{
 "cells": [
  {
   "cell_type": "markdown",
   "id": "043042a9",
   "metadata": {},
   "source": [
    "# Parse a JSON response using Python requests library"
   ]
  },
  {
   "cell_type": "markdown",
   "id": "6ee275ed",
   "metadata": {},
   "source": [
    "This project is based on the post Vishal. https://pynative.com/parse-json-response-using-python-requests-library/. In which we will We will parse JSON response into Python Dictionary so you can access JSON data using key-value pairs. Also, you can prettyPrint JSON in the readable format."
   ]
  },
  {
   "cell_type": "markdown",
   "id": "0b888407",
   "metadata": {},
   "source": [
    "The response of the GET request contains information we called it as a payload. We can find this information in the message body. "
   ]
  },
  {
   "cell_type": "markdown",
   "id": "a4c57318",
   "metadata": {},
   "source": [
    "We can access payload data using the following three methods of a requests module.\n",
    "\n",
    "response.content used to access payload data in raw bytes format.\n",
    "response.text: used to access payload data in String format.\n",
    "response.json() used to access payload data in the JSON serialized format."
   ]
  },
  {
   "cell_type": "code",
   "execution_count": 5,
   "id": "272208d2",
   "metadata": {},
   "outputs": [
    {
     "name": "stdout",
     "output_type": "stream",
     "text": [
      "Entire JSON response\n",
      "{'args': {}, 'headers': {'Accept': '*/*', 'Accept-Encoding': 'gzip, deflate', 'Host': 'httpbin.org', 'User-Agent': 'python-requests/2.26.0', 'X-Amzn-Trace-Id': 'Root=1-61a7826e-48a7ef143bebd3ca6b0711b4'}, 'origin': '89.14.243.71', 'url': 'https://httpbin.org/get'}\n"
     ]
    }
   ],
   "source": [
    "import requests\n",
    "from requests.exceptions import HTTPError\n",
    "\n",
    "try:\n",
    "    response = requests.get('https://httpbin.org/get')\n",
    "    response.raise_for_status()\n",
    "    # access JSON content\n",
    "    jsonResponse = response.json()\n",
    "    print('Entire JSON response')\n",
    "    print(jsonResponse)\n",
    "    \n",
    "except HTTPError as http_err:\n",
    "    print(f'HTTP error occored: {http_err}')\n",
    "except Exception as err:\n",
    "    print(f'Other error occured: {err}')"
   ]
  },
  {
   "cell_type": "markdown",
   "id": "98333054",
   "metadata": {},
   "source": [
    "### Iterating through JSON key-valus pairs one-by-one"
   ]
  },
  {
   "cell_type": "code",
   "execution_count": 6,
   "id": "89740d28",
   "metadata": {},
   "outputs": [
    {
     "name": "stdout",
     "output_type": "stream",
     "text": [
      "Print each key-value pair from JSON response:\n",
      "args : {}\n",
      "headers : {'Accept': '*/*', 'Accept-Encoding': 'gzip, deflate', 'Host': 'httpbin.org', 'User-Agent': 'python-requests/2.26.0', 'X-Amzn-Trace-Id': 'Root=1-61a7826e-48a7ef143bebd3ca6b0711b4'}\n",
      "origin : 89.14.243.71\n",
      "url : https://httpbin.org/get\n"
     ]
    }
   ],
   "source": [
    "print('Print each key-value pair from JSON response:')\n",
    "for key, value in jsonResponse.items():\n",
    "    print(key, \":\", value)"
   ]
  },
  {
   "cell_type": "code",
   "execution_count": 8,
   "id": "39e34a32",
   "metadata": {},
   "outputs": [
    {
     "name": "stdout",
     "output_type": "stream",
     "text": [
      "Print each key-value pair from the header in JSON format:\n",
      "Accept : */*\n",
      "Accept-Encoding : gzip, deflate\n",
      "Host : httpbin.org\n",
      "User-Agent : python-requests/2.26.0\n",
      "X-Amzn-Trace-Id : Root=1-61a7826e-48a7ef143bebd3ca6b0711b4\n"
     ]
    }
   ],
   "source": [
    "print('Print each key-value pair from the header in JSON format:')\n",
    "for key, value in jsonResponse['headers'].items():\n",
    "    print(key, \":\", value)"
   ]
  },
  {
   "cell_type": "code",
   "execution_count": 10,
   "id": "0c5d348d",
   "metadata": {},
   "outputs": [
    {
     "name": "stdout",
     "output_type": "stream",
     "text": [
      "URL is https://httpbin.org/get\n"
     ]
    }
   ],
   "source": [
    "#accessing a key-value directly from a response using a key name\n",
    "print(f'URL is {jsonResponse[\"url\"]}')"
   ]
  },
  {
   "cell_type": "code",
   "execution_count": 11,
   "id": "1c9d5bd8",
   "metadata": {},
   "outputs": [
    {
     "name": "stdout",
     "output_type": "stream",
     "text": [
      "Host is httpbin.org\n"
     ]
    }
   ],
   "source": [
    "#accessing nested JSON key direcly from respose\n",
    "print(f'Host is {jsonResponse[\"headers\"][\"Host\"]}')"
   ]
  },
  {
   "cell_type": "code",
   "execution_count": null,
   "id": "233a62d4",
   "metadata": {},
   "outputs": [],
   "source": []
  }
 ],
 "metadata": {
  "kernelspec": {
   "display_name": "Python 3 (ipykernel)",
   "language": "python",
   "name": "python3"
  },
  "language_info": {
   "codemirror_mode": {
    "name": "ipython",
    "version": 3
   },
   "file_extension": ".py",
   "mimetype": "text/x-python",
   "name": "python",
   "nbconvert_exporter": "python",
   "pygments_lexer": "ipython3",
   "version": "3.9.7"
  }
 },
 "nbformat": 4,
 "nbformat_minor": 5
}
