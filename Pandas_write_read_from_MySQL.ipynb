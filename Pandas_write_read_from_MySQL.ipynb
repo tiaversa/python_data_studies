{
 "cells": [
  {
   "cell_type": "markdown",
   "id": "bad7b4bd",
   "metadata": {},
   "source": [
    "# Pandas DataFrames - Writing to and Reading From MySQL Table "
   ]
  },
  {
   "cell_type": "markdown",
   "id": "ddf80d12",
   "metadata": {},
   "source": [
    "## Writing Data from MySQL database table into pandas dataframe\n",
    "\n",
    "Base on the article from Antony Christopher (https://medium.com/analytics-vidhya/importing-data-from-a-mysql-database-into-pandas-data-frame-a06e392d27d7)."
   ]
  },
  {
   "cell_type": "code",
   "execution_count": 1,
   "id": "111ab5fb",
   "metadata": {},
   "outputs": [],
   "source": [
    "from sqlalchemy import create_engine\n",
    "import mysql.connector as mysql\n",
    "import pandas as pd\n"
   ]
  },
  {
   "cell_type": "code",
   "execution_count": 2,
   "id": "ba768ccb",
   "metadata": {},
   "outputs": [
    {
     "name": "stdout",
     "output_type": "stream",
     "text": [
      "     natural_gas_id     date  price  year month\n",
      "0                 1  1997-01   3.45  1997    01\n",
      "1                 2  1997-02   2.15  1997    02\n",
      "2                 3  1997-03   1.89  1997    03\n",
      "3                 4  1997-04   2.03  1997    04\n",
      "4                 5  1997-05   2.25  1997    05\n",
      "..              ...      ...    ...   ...   ...\n",
      "279             280  2020-04   1.74  2020    04\n",
      "280             281  2020-05   1.75  2020    05\n",
      "281             282  2020-06   1.63  2020    06\n",
      "282             283  2020-07   1.77  2020    07\n",
      "283             284  2020-08   2.30  2020    08\n",
      "\n",
      "[284 rows x 5 columns]\n"
     ]
    }
   ],
   "source": [
    "#connecting to the database, takes 3 requirements\n",
    "try:\n",
    "    db = mysql.connect(\n",
    "    host='127.0.0.1',\n",
    "    user='root',\n",
    "    password='*Saltlake5',\n",
    "    database='natural_gas')\n",
    "    \n",
    "    query = 'SELECT * FROM natural_gas;'\n",
    "    result_dataFrame = pd.read_sql(query, db)\n",
    "    db.close() #close the connection\n",
    "\n",
    "except Exception as e:\n",
    "    db.close()\n",
    "    print(str(e))\n",
    "\n",
    "print(result_dataFrame)"
   ]
  },
  {
   "cell_type": "markdown",
   "id": "457eab2c",
   "metadata": {},
   "source": [
    "#### Explenation on connection and reading the data with pandas:\n",
    "\n",
    "mysql.connector provides all the database manipulation using python. Let get deeper on code logic implementation.\n",
    "\n",
    "connection.connect(host, database, user, password,use_pure)\n",
    "\n",
    "host — provides the hostName of MySQL server. Normally, if we do install in our machine locally then it termed as ‘localhost’. Cases like cloud / dedicated third party server provide the IP address there.\n",
    "\n",
    "database- Provides the name of the database to do manipulation.\n",
    "\n",
    "user & password- The credentials to access the database. Normally all database having the credentials set up to make it secure access.\n",
    "\n",
    "use_pure — Symbolize Python implementation\n",
    "\n",
    "pandas.read_sql(sql, con)\n",
    "\n",
    "Read SQL query or database table into a DataFrame.\n",
    "\n",
    "sql — SQL query to be executed or a table name.\n",
    "\n",
    "con — Using SQLAlchemy makes it possible to use any DB supported by that library. If a DBAPI2 object, only sqlite3 is supported. The user is responsible for engine disposal and connection closure for the SQLAlchemy connectable.\n"
   ]
  },
  {
   "cell_type": "code",
   "execution_count": 3,
   "id": "9dec897a",
   "metadata": {},
   "outputs": [
    {
     "data": {
      "text/html": [
       "<div>\n",
       "<style scoped>\n",
       "    .dataframe tbody tr th:only-of-type {\n",
       "        vertical-align: middle;\n",
       "    }\n",
       "\n",
       "    .dataframe tbody tr th {\n",
       "        vertical-align: top;\n",
       "    }\n",
       "\n",
       "    .dataframe thead th {\n",
       "        text-align: right;\n",
       "    }\n",
       "</style>\n",
       "<table border=\"1\" class=\"dataframe\">\n",
       "  <thead>\n",
       "    <tr style=\"text-align: right;\">\n",
       "      <th></th>\n",
       "      <th>natural_gas_id</th>\n",
       "      <th>date</th>\n",
       "      <th>price</th>\n",
       "      <th>year</th>\n",
       "      <th>month</th>\n",
       "    </tr>\n",
       "  </thead>\n",
       "  <tbody>\n",
       "    <tr>\n",
       "      <th>0</th>\n",
       "      <td>1</td>\n",
       "      <td>1997-01</td>\n",
       "      <td>3.45</td>\n",
       "      <td>1997</td>\n",
       "      <td>01</td>\n",
       "    </tr>\n",
       "    <tr>\n",
       "      <th>1</th>\n",
       "      <td>2</td>\n",
       "      <td>1997-02</td>\n",
       "      <td>2.15</td>\n",
       "      <td>1997</td>\n",
       "      <td>02</td>\n",
       "    </tr>\n",
       "    <tr>\n",
       "      <th>2</th>\n",
       "      <td>3</td>\n",
       "      <td>1997-03</td>\n",
       "      <td>1.89</td>\n",
       "      <td>1997</td>\n",
       "      <td>03</td>\n",
       "    </tr>\n",
       "    <tr>\n",
       "      <th>3</th>\n",
       "      <td>4</td>\n",
       "      <td>1997-04</td>\n",
       "      <td>2.03</td>\n",
       "      <td>1997</td>\n",
       "      <td>04</td>\n",
       "    </tr>\n",
       "    <tr>\n",
       "      <th>4</th>\n",
       "      <td>5</td>\n",
       "      <td>1997-05</td>\n",
       "      <td>2.25</td>\n",
       "      <td>1997</td>\n",
       "      <td>05</td>\n",
       "    </tr>\n",
       "  </tbody>\n",
       "</table>\n",
       "</div>"
      ],
      "text/plain": [
       "   natural_gas_id     date  price  year month\n",
       "0               1  1997-01   3.45  1997    01\n",
       "1               2  1997-02   2.15  1997    02\n",
       "2               3  1997-03   1.89  1997    03\n",
       "3               4  1997-04   2.03  1997    04\n",
       "4               5  1997-05   2.25  1997    05"
      ]
     },
     "execution_count": 3,
     "metadata": {},
     "output_type": "execute_result"
    }
   ],
   "source": [
    "#utilyzing pandas features\n",
    "result_dataFrame.head()"
   ]
  },
  {
   "cell_type": "markdown",
   "id": "dddbf4aa",
   "metadata": {},
   "source": [
    "## Exporting Dataset to CSV"
   ]
  },
  {
   "cell_type": "code",
   "execution_count": 4,
   "id": "d06fce54",
   "metadata": {},
   "outputs": [],
   "source": [
    "result_dataFrame.to_csv('data/Test.csv')"
   ]
  },
  {
   "cell_type": "code",
   "execution_count": 5,
   "id": "b82e068e",
   "metadata": {},
   "outputs": [
    {
     "data": {
      "text/html": [
       "<div>\n",
       "<style scoped>\n",
       "    .dataframe tbody tr th:only-of-type {\n",
       "        vertical-align: middle;\n",
       "    }\n",
       "\n",
       "    .dataframe tbody tr th {\n",
       "        vertical-align: top;\n",
       "    }\n",
       "\n",
       "    .dataframe thead th {\n",
       "        text-align: right;\n",
       "    }\n",
       "</style>\n",
       "<table border=\"1\" class=\"dataframe\">\n",
       "  <thead>\n",
       "    <tr style=\"text-align: right;\">\n",
       "      <th></th>\n",
       "      <th>Unnamed: 0</th>\n",
       "      <th>natural_gas_id</th>\n",
       "      <th>date</th>\n",
       "      <th>price</th>\n",
       "      <th>year</th>\n",
       "      <th>month</th>\n",
       "    </tr>\n",
       "  </thead>\n",
       "  <tbody>\n",
       "    <tr>\n",
       "      <th>0</th>\n",
       "      <td>0</td>\n",
       "      <td>1</td>\n",
       "      <td>1997-01</td>\n",
       "      <td>3.45</td>\n",
       "      <td>1997</td>\n",
       "      <td>1</td>\n",
       "    </tr>\n",
       "    <tr>\n",
       "      <th>1</th>\n",
       "      <td>1</td>\n",
       "      <td>2</td>\n",
       "      <td>1997-02</td>\n",
       "      <td>2.15</td>\n",
       "      <td>1997</td>\n",
       "      <td>2</td>\n",
       "    </tr>\n",
       "    <tr>\n",
       "      <th>2</th>\n",
       "      <td>2</td>\n",
       "      <td>3</td>\n",
       "      <td>1997-03</td>\n",
       "      <td>1.89</td>\n",
       "      <td>1997</td>\n",
       "      <td>3</td>\n",
       "    </tr>\n",
       "    <tr>\n",
       "      <th>3</th>\n",
       "      <td>3</td>\n",
       "      <td>4</td>\n",
       "      <td>1997-04</td>\n",
       "      <td>2.03</td>\n",
       "      <td>1997</td>\n",
       "      <td>4</td>\n",
       "    </tr>\n",
       "    <tr>\n",
       "      <th>4</th>\n",
       "      <td>4</td>\n",
       "      <td>5</td>\n",
       "      <td>1997-05</td>\n",
       "      <td>2.25</td>\n",
       "      <td>1997</td>\n",
       "      <td>5</td>\n",
       "    </tr>\n",
       "    <tr>\n",
       "      <th>...</th>\n",
       "      <td>...</td>\n",
       "      <td>...</td>\n",
       "      <td>...</td>\n",
       "      <td>...</td>\n",
       "      <td>...</td>\n",
       "      <td>...</td>\n",
       "    </tr>\n",
       "    <tr>\n",
       "      <th>279</th>\n",
       "      <td>279</td>\n",
       "      <td>280</td>\n",
       "      <td>2020-04</td>\n",
       "      <td>1.74</td>\n",
       "      <td>2020</td>\n",
       "      <td>4</td>\n",
       "    </tr>\n",
       "    <tr>\n",
       "      <th>280</th>\n",
       "      <td>280</td>\n",
       "      <td>281</td>\n",
       "      <td>2020-05</td>\n",
       "      <td>1.75</td>\n",
       "      <td>2020</td>\n",
       "      <td>5</td>\n",
       "    </tr>\n",
       "    <tr>\n",
       "      <th>281</th>\n",
       "      <td>281</td>\n",
       "      <td>282</td>\n",
       "      <td>2020-06</td>\n",
       "      <td>1.63</td>\n",
       "      <td>2020</td>\n",
       "      <td>6</td>\n",
       "    </tr>\n",
       "    <tr>\n",
       "      <th>282</th>\n",
       "      <td>282</td>\n",
       "      <td>283</td>\n",
       "      <td>2020-07</td>\n",
       "      <td>1.77</td>\n",
       "      <td>2020</td>\n",
       "      <td>7</td>\n",
       "    </tr>\n",
       "    <tr>\n",
       "      <th>283</th>\n",
       "      <td>283</td>\n",
       "      <td>284</td>\n",
       "      <td>2020-08</td>\n",
       "      <td>2.30</td>\n",
       "      <td>2020</td>\n",
       "      <td>8</td>\n",
       "    </tr>\n",
       "  </tbody>\n",
       "</table>\n",
       "<p>284 rows × 6 columns</p>\n",
       "</div>"
      ],
      "text/plain": [
       "     Unnamed: 0  natural_gas_id     date  price  year  month\n",
       "0             0               1  1997-01   3.45  1997      1\n",
       "1             1               2  1997-02   2.15  1997      2\n",
       "2             2               3  1997-03   1.89  1997      3\n",
       "3             3               4  1997-04   2.03  1997      4\n",
       "4             4               5  1997-05   2.25  1997      5\n",
       "..          ...             ...      ...    ...   ...    ...\n",
       "279         279             280  2020-04   1.74  2020      4\n",
       "280         280             281  2020-05   1.75  2020      5\n",
       "281         281             282  2020-06   1.63  2020      6\n",
       "282         282             283  2020-07   1.77  2020      7\n",
       "283         283             284  2020-08   2.30  2020      8\n",
       "\n",
       "[284 rows x 6 columns]"
      ]
     },
     "execution_count": 5,
     "metadata": {},
     "output_type": "execute_result"
    }
   ],
   "source": [
    "df_csv = pd.read_csv('data/Test.csv')\n",
    "df_csv"
   ]
  },
  {
   "cell_type": "markdown",
   "id": "3a3bd4ea",
   "metadata": {},
   "source": [
    "## Questions over the dataset:\n",
    "#### What years are available in this dataset"
   ]
  },
  {
   "cell_type": "markdown",
   "id": "0801d448",
   "metadata": {},
   "source": [
    "#### what is the mean price of each year?"
   ]
  },
  {
   "cell_type": "markdown",
   "id": "1f5de958",
   "metadata": {},
   "source": [
    "#### What is the mean price of each month?"
   ]
  },
  {
   "cell_type": "markdown",
   "id": "cada469b",
   "metadata": {},
   "source": [
    "#### How many of this inputs had a price lower then 2?"
   ]
  },
  {
   "cell_type": "code",
   "execution_count": null,
   "id": "2a5b5ee8",
   "metadata": {},
   "outputs": [],
   "source": []
  }
 ],
 "metadata": {
  "kernelspec": {
   "display_name": "Python 3 (ipykernel)",
   "language": "python",
   "name": "python3"
  },
  "language_info": {
   "codemirror_mode": {
    "name": "ipython",
    "version": 3
   },
   "file_extension": ".py",
   "mimetype": "text/x-python",
   "name": "python",
   "nbconvert_exporter": "python",
   "pygments_lexer": "ipython3",
   "version": "3.9.7"
  }
 },
 "nbformat": 4,
 "nbformat_minor": 5
}
